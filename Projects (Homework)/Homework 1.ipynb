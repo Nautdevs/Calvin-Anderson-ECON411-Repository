{
 "cells": [
  {
   "cell_type": "markdown",
   "id": "lightweight-battlefield",
   "metadata": {},
   "source": [
    "# Homework 1\n"
   ]
  },
  {
   "cell_type": "markdown",
   "id": "polished-albert",
   "metadata": {},
   "source": [
    "# 1.\n",
    "x = \"Calvin Anderson\"\n",
    "another_object = \"Calm, methodical, analytical\""
   ]
  },
  {
   "cell_type": "markdown",
   "id": "fleet-publisher",
   "metadata": {},
   "source": [
    "# 2.\n",
    "twoToTheFourth = 2**4\n",
    "\n",
    "sumtwoToTheFourth = twoToTheFourth + twoToTheFourth\n",
    "\n",
    "stringtwoToTheFourth = str(twoToTheFourth)\n",
    "\n",
    "sumstringtwoToTheFourth = stringtwoToTheFourth + stringtwoToTheFourth"
   ]
  },
  {
   "cell_type": "markdown",
   "id": "turned-basics",
   "metadata": {},
   "source": [
    "escapestring = \"Hello, \\n\\tMy name is Calvin Anderson. \\'Cal\\'i\\b is my nickname. \\n\\v\\tComo te llamas?\"\n",
    "print(escapestring)"
   ]
  },
  {
   "cell_type": "code",
   "execution_count": 51,
   "id": "initial-vegetation",
   "metadata": {},
   "outputs": [
    {
     "name": "stdout",
     "output_type": "stream",
     "text": [
      "When you add a <class 'int'>  and a <class 'float'> together you get: <class 'float'>\n"
     ]
    }
   ],
   "source": [
    "myInteger = 5\n",
    "myFloat = 3.9998\n",
    "myAmalgamation = myInteger + myFloat\n",
    "print(\"When you add a\", type(myInteger), \" and a\", type(myFloat), \"together you get:\", type(myAmalgamation))"
   ]
  },
  {
   "cell_type": "code",
   "execution_count": 52,
   "id": "amber-project",
   "metadata": {},
   "outputs": [
    {
     "name": "stdout",
     "output_type": "stream",
     "text": [
      "179769313486231590772930519078902473361797697894230657273430081157732675805500963132708477322407536021120113879871393357658789768814416622492847430639474124377767893424865485276302219601246094119453082952085005768838150682342462881473913110540827237163350510684586298239947245938479716304835356329624224137216\n",
      "\n",
      " 179769313486231590772930519078902473361797697894230657273430081157732675805500963132708477322407536021120113879871393357658789768814416622492847430639474124377767893424865485276302219601246094119453082952085005768838150682342462881473913110540827237163350510684586298239947245938479716304835356329624224137217\n"
     ]
    },
    {
     "ename": "OverflowError",
     "evalue": "int too large to convert to float",
     "output_type": "error",
     "traceback": [
      "\u001b[1;31m---------------------------------------------------------------------------\u001b[0m",
      "\u001b[1;31mOverflowError\u001b[0m                             Traceback (most recent call last)",
      "\u001b[1;32m<ipython-input-52-61a471e36d42>\u001b[0m in \u001b[0;36m<module>\u001b[1;34m\u001b[0m\n\u001b[0;32m      7\u001b[0m \u001b[0mprint\u001b[0m\u001b[1;33m(\u001b[0m\u001b[1;34m\"\\n\"\u001b[0m\u001b[1;33m,\u001b[0m \u001b[0mpuzzle\u001b[0m\u001b[1;33m)\u001b[0m\u001b[1;33m\u001b[0m\u001b[1;33m\u001b[0m\u001b[0m\n\u001b[0;32m      8\u001b[0m \u001b[1;33m\u001b[0m\u001b[0m\n\u001b[1;32m----> 9\u001b[1;33m \u001b[0mpuzzle\u001b[0m \u001b[1;33m=\u001b[0m \u001b[0mpuzzle\u001b[0m \u001b[1;33m-\u001b[0m \u001b[1;36m1\u001b[0m \u001b[1;33m+\u001b[0m \u001b[1;36m.1\u001b[0m\u001b[1;33m\u001b[0m\u001b[1;33m\u001b[0m\u001b[0m\n\u001b[0m\u001b[0;32m     10\u001b[0m \u001b[1;33m\u001b[0m\u001b[0m\n\u001b[0;32m     11\u001b[0m \u001b[0mprint\u001b[0m\u001b[1;33m(\u001b[0m\u001b[0mpuzzle\u001b[0m\u001b[1;33m)\u001b[0m\u001b[1;33m\u001b[0m\u001b[1;33m\u001b[0m\u001b[0m\n",
      "\u001b[1;31mOverflowError\u001b[0m: int too large to convert to float"
     ]
    }
   ],
   "source": [
    "puzzle = (2 ** 1024)\n",
    "\n",
    "print(puzzle)\n",
    "\n",
    "puzzle = puzzle + 1\n",
    "\n",
    "print(\"\\n\", puzzle)\n",
    "\n",
    "puzzle = puzzle - 1 + .1\n",
    "\n",
    "print(puzzle)"
   ]
  },
  {
   "cell_type": "markdown",
   "id": "current-congress",
   "metadata": {},
   "source": [
    "### It appears that this number is far too large to be converted into a float. This is because although the float and integer are both 32-bits wide the float uses a single bit to determine if the float is positive or negative, 8 bits to designate the exponent, and the remaining for the mantissa which is the part multiplied by the exponent to get the final value. The range of whole numbers that may be represented is greater than the range of whole numbers that can be represented by the float data type. "
   ]
  },
  {
   "cell_type": "code",
   "execution_count": 50,
   "id": "reflected-warren",
   "metadata": {},
   "outputs": [
    {
     "ename": "AttributeError",
     "evalue": "module 'string' has no attribute '____dict____'",
     "output_type": "error",
     "traceback": [
      "\u001b[1;31m---------------------------------------------------------------------------\u001b[0m",
      "\u001b[1;31mAttributeError\u001b[0m                            Traceback (most recent call last)",
      "\u001b[1;32m<ipython-input-50-d4770a3c5a36>\u001b[0m in \u001b[0;36m<module>\u001b[1;34m\u001b[0m\n\u001b[0;32m      1\u001b[0m \u001b[1;32mimport\u001b[0m \u001b[0mstring\u001b[0m\u001b[1;33m\u001b[0m\u001b[1;33m\u001b[0m\u001b[0m\n\u001b[1;32m----> 2\u001b[1;33m \u001b[0mprint\u001b[0m\u001b[1;33m(\u001b[0m\u001b[0mstring\u001b[0m\u001b[1;33m.\u001b[0m\u001b[0m____dict____\u001b[0m\u001b[1;33m)\u001b[0m\u001b[1;33m\u001b[0m\u001b[1;33m\u001b[0m\u001b[0m\n\u001b[0m",
      "\u001b[1;31mAttributeError\u001b[0m: module 'string' has no attribute '____dict____'"
     ]
    }
   ],
   "source": [
    "import string\n",
    "print(string.____dict____)"
   ]
  },
  {
   "cell_type": "code",
   "execution_count": null,
   "id": "coupled-liverpool",
   "metadata": {},
   "outputs": [],
   "source": [
    "#8\n",
    "\n",
    "distinctstring = \"This is a very distinct string\"\n",
    "\n",
    "mostdistinctstring = 5.55592839\n",
    "\n",
    "mostdistinctstring = str(mostdistinctstring)\n",
    "\n",
    "mostdistinctstring = mostdistinctstring.replace(\"5.555\", \"\")\n",
    "\n",
    "storystring = \"Today is a sunny day, \\nIt is 69 degrees out currently and it is 12:05PM.\\nI sit at my desk above the coffee shop in Barry Hall pondering the finitude of life while poring over my ECON411 homework.\"\n",
    "\n",
    "print(distinctstring, \"\\n\", mostdistinctstring, \"\\n\", storystring)\n",
    "\n",
    "THEstring = distinctstring + mostdistinctstring + storystring\n",
    "\n",
    "print(\"\\n\", THEstring)"
   ]
  },
  {
   "cell_type": "code",
   "execution_count": null,
   "id": "standing-video",
   "metadata": {},
   "outputs": [],
   "source": [
    "print()"
   ]
  },
  {
   "cell_type": "code",
   "execution_count": null,
   "id": "grave-johnson",
   "metadata": {},
   "outputs": [],
   "source": []
  },
  {
   "cell_type": "code",
   "execution_count": null,
   "id": "endangered-calvin",
   "metadata": {},
   "outputs": [],
   "source": []
  }
 ],
 "metadata": {
  "kernelspec": {
   "display_name": "Python 3",
   "language": "python",
   "name": "python3"
  },
  "language_info": {
   "codemirror_mode": {
    "name": "ipython",
    "version": 3
   },
   "file_extension": ".py",
   "mimetype": "text/x-python",
   "name": "python",
   "nbconvert_exporter": "python",
   "pygments_lexer": "ipython3",
   "version": "3.8.5"
  }
 },
 "nbformat": 4,
 "nbformat_minor": 5
}
