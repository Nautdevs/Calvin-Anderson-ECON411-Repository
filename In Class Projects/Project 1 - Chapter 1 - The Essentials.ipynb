{
 "cells": [
  {
   "cell_type": "markdown",
   "id": "directed-latino",
   "metadata": {},
   "source": [
    "# Project 1- Chapter 1- The Essentials\n",
    "\n",
    "\n",
    "This is the first program I have written for ECON411. Next, Mr. Caton says we'll be working with strings"
   ]
  },
  {
   "cell_type": "markdown",
   "id": "executive-veteran",
   "metadata": {},
   "source": [
    "# Introduction to Jupyter\n",
    "\n",
    "We just used the print function. Print will print the object that is passed to it. I passed the variable 'x' containing the string \"hello world!!!\" and it printed the following: \"hello world!!!\""
   ]
  },
  {
   "cell_type": "code",
   "execution_count": 6,
   "id": "interim-conversion",
   "metadata": {},
   "outputs": [
    {
     "name": "stdout",
     "output_type": "stream",
     "text": [
      "hello world!!!\n"
     ]
    }
   ],
   "source": [
    "x = \"hello world!!!\"\n",
    "print(x)"
   ]
  },
  {
   "cell_type": "markdown",
   "id": "least-princess",
   "metadata": {},
   "source": [
    "# Changing Variables\n",
    "In the following I changed the value of x to the integer, '5' and printed it alongside the string \"x\""
   ]
  },
  {
   "cell_type": "code",
   "execution_count": 9,
   "id": "affecting-stylus",
   "metadata": {},
   "outputs": [
    {
     "name": "stdout",
     "output_type": "stream",
     "text": [
      "x 5\n"
     ]
    }
   ],
   "source": [
    "x = 5\n",
    "print(\"x\", x)"
   ]
  },
  {
   "cell_type": "markdown",
   "id": "patent-ontario",
   "metadata": {},
   "source": [
    "###### Next, we'll use a string method, \".upper()\" to capitalize all the letters within the string \".title()\" will only capitalize the first letter of each string\n"
   ]
  },
  {
   "cell_type": "code",
   "execution_count": 10,
   "id": "checked-uganda",
   "metadata": {},
   "outputs": [
    {
     "name": "stdout",
     "output_type": "stream",
     "text": [
      "VARIABLES ARE INTERESTING\n",
      "Variables Are Interesting\n"
     ]
    }
   ],
   "source": [
    "myMessage = \"variables are interesting\"\n",
    "print(myMessage.upper())\n",
    "print(myMessage.title())"
   ]
  },
  {
   "cell_type": "markdown",
   "id": "acoustic-graduate",
   "metadata": {},
   "source": [
    "###### Notice how the \".title()\" method capitalzed each word of the string"
   ]
  },
  {
   "cell_type": "markdown",
   "id": "compact-footage",
   "metadata": {},
   "source": [
    "## String Concatenation\n",
    "\n",
    "You can concatenate strings using a plus sign \"+\". Which means joining to create a single aggregate string"
   ]
  },
  {
   "cell_type": "code",
   "execution_count": 15,
   "id": "close-issue",
   "metadata": {},
   "outputs": [
    {
     "name": "stdout",
     "output_type": "stream",
     "text": [
      "This is interestingThis is not interestingWoah, that's coolHue hue hue\n",
      "THIS IS INTERESTINGTHIS IS NOT INTERESTINGWOAH, THAT'S COOLHUE HUE HUE\n"
     ]
    }
   ],
   "source": [
    "m1 = \"This is interesting\"\n",
    "m2 = \"This is not interesting\"\n",
    "m3 = \"Woah, that's cool\"\n",
    "m4 = \"Hue hue hue\"\n",
    "\n",
    "m5 = m1 + m2 + m3 + m4\n",
    "print(m5)\n",
    "print(m5.upper())"
   ]
  },
  {
   "cell_type": "markdown",
   "id": "confirmed-rouge",
   "metadata": {},
   "source": [
    "## The sep option in print() allows me to specifiy a character that will be printed instead of each comma"
   ]
  },
  {
   "cell_type": "code",
   "execution_count": 18,
   "id": "electrical-spectrum",
   "metadata": {},
   "outputs": [
    {
     "name": "stdout",
     "output_type": "stream",
     "text": [
      "This is interesting\bThis is not interesting\bWoah, that's cool\bHue hue hue\n",
      "\n",
      "\n",
      "This is interesting\n",
      "This is not interesting\n",
      "Woah, that's cool\n",
      "Hue hue hue\n"
     ]
    }
   ],
   "source": [
    "print(m1, m2, m3, m4, sep = \"\\b\")\n",
    "print(\"\\n\")\n",
    "print(m1, m2, m3, m4, sep = \"\\n\")"
   ]
  },
  {
   "cell_type": "code",
   "execution_count": null,
   "id": "prepared-preserve",
   "metadata": {},
   "outputs": [],
   "source": []
  },
  {
   "cell_type": "code",
   "execution_count": null,
   "id": "accurate-tournament",
   "metadata": {},
   "outputs": [],
   "source": []
  },
  {
   "cell_type": "code",
   "execution_count": null,
   "id": "korean-avenue",
   "metadata": {},
   "outputs": [],
   "source": []
  },
  {
   "cell_type": "code",
   "execution_count": null,
   "id": "automatic-subdivision",
   "metadata": {},
   "outputs": [],
   "source": []
  },
  {
   "cell_type": "code",
   "execution_count": null,
   "id": "stainless-albert",
   "metadata": {},
   "outputs": [],
   "source": []
  },
  {
   "cell_type": "code",
   "execution_count": null,
   "id": "gothic-operations",
   "metadata": {},
   "outputs": [],
   "source": []
  },
  {
   "cell_type": "code",
   "execution_count": null,
   "id": "graduate-terrorist",
   "metadata": {},
   "outputs": [],
   "source": []
  }
 ],
 "metadata": {
  "kernelspec": {
   "display_name": "Python 3",
   "language": "python",
   "name": "python3"
  },
  "language_info": {
   "codemirror_mode": {
    "name": "ipython",
    "version": 3
   },
   "file_extension": ".py",
   "mimetype": "text/x-python",
   "name": "python",
   "nbconvert_exporter": "python",
   "pygments_lexer": "ipython3",
   "version": "3.8.5"
  }
 },
 "nbformat": 4,
 "nbformat_minor": 5
}
